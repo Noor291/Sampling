{
  "nbformat": 4,
  "nbformat_minor": 0,
  "metadata": {
    "colab": {
      "provenance": [],
      "authorship_tag": "ABX9TyOgEEgKypLgCzZY3A0blpcL",
      "include_colab_link": true
    },
    "kernelspec": {
      "name": "python3",
      "display_name": "Python 3"
    },
    "language_info": {
      "name": "python"
    }
  },
  "cells": [
    {
      "cell_type": "markdown",
      "metadata": {
        "id": "view-in-github",
        "colab_type": "text"
      },
      "source": [
        "<a href=\"https://colab.research.google.com/github/Noor291/Sampling/blob/main/Sampling.ipynb\" target=\"_parent\"><img src=\"https://colab.research.google.com/assets/colab-badge.svg\" alt=\"Open In Colab\"/></a>"
      ]
    },
    {
      "cell_type": "code",
      "execution_count": null,
      "metadata": {
        "id": "LxAtsIXg8KhO"
      },
      "outputs": [],
      "source": [
        "import pandas as pd\n",
        "import numpy as np\n",
        "import random\n",
        "import math\n",
        "from sklearn.model_selection import train_test_split\n",
        "from imblearn.over_sampling import SMOTE\n",
        "from sklearn.linear_model import LogisticRegression\n",
        "from sklearn.metrics import accuracy_score\n",
        "from sklearn.svm import SVC\n",
        "from sklearn.neighbors import KNeighborsClassifier\n",
        "from sklearn.tree import DecisionTreeClassifier\n",
        "from sklearn.ensemble import RandomForestClassifier"
      ]
    },
    {
      "cell_type": "code",
      "source": [
        "ccdata=pd.read_csv(\"Creditcard_data.csv\")\n",
        "print(ccdata.head()) #Binary classification"
      ],
      "metadata": {
        "colab": {
          "base_uri": "https://localhost:8080/"
        },
        "id": "damnUAr18WBa",
        "outputId": "efe1d490-bd23-420d-91b3-13c0a939f2d6"
      },
      "execution_count": null,
      "outputs": [
        {
          "output_type": "stream",
          "name": "stdout",
          "text": [
            "   Time        V1        V2        V3        V4        V5        V6        V7  \\\n",
            "0     0 -1.359807 -0.072781  2.536347  1.378155 -0.338321  0.462388  0.239599   \n",
            "1     0  1.191857  0.266151  0.166480  0.448154  0.060018 -0.082361 -0.078803   \n",
            "2     1 -1.358354 -1.340163  1.773209  0.379780 -0.503198  1.800499  0.791461   \n",
            "3     1 -0.966272 -0.185226  1.792993 -0.863291 -0.010309  1.247203  0.237609   \n",
            "4     2 -1.158233  0.877737  1.548718  0.403034 -0.407193  0.095921  0.592941   \n",
            "\n",
            "         V8        V9  ...       V21       V22       V23       V24       V25  \\\n",
            "0  0.098698  0.363787  ... -0.018307  0.277838 -0.110474  0.066928  0.128539   \n",
            "1  0.085102 -0.255425  ... -0.225775 -0.638672  0.101288 -0.339846  0.167170   \n",
            "2  0.247676 -1.514654  ...  0.247998  0.771679  0.909412 -0.689281 -0.327642   \n",
            "3  0.377436 -1.387024  ... -0.108300  0.005274 -0.190321 -1.175575  0.647376   \n",
            "4 -0.270533  0.817739  ... -0.009431  0.798278 -0.137458  0.141267 -0.206010   \n",
            "\n",
            "        V26       V27       V28  Amount  Class  \n",
            "0 -0.189115  0.133558 -0.021053  149.62      0  \n",
            "1  0.125895 -0.008983  0.014724    2.69      1  \n",
            "2 -0.139097 -0.055353 -0.059752  378.66      0  \n",
            "3 -0.221929  0.062723  0.061458  123.50      0  \n",
            "4  0.502292  0.219422  0.215153   69.99      0  \n",
            "\n",
            "[5 rows x 31 columns]\n"
          ]
        }
      ]
    },
    {
      "cell_type": "code",
      "source": [
        "#Convert this data-set into balanced class data-set. (Using the techniques as discussed in the class)\n",
        "print(ccdata['Class'].value_counts()[0])\n",
        "print(ccdata['Class'].value_counts()[1])\n",
        "data0=ccdata.loc[ccdata['Class'].isin([0])]\n",
        "data1=ccdata.loc[ccdata['Class'].isin([1])]"
      ],
      "metadata": {
        "colab": {
          "base_uri": "https://localhost:8080/"
        },
        "id": "A6sM0cKf8Z3V",
        "outputId": "f93371da-c6e1-464e-d1bf-f5f6e7f70160"
      },
      "execution_count": null,
      "outputs": [
        {
          "output_type": "stream",
          "name": "stdout",
          "text": [
            "763\n",
            "9\n"
          ]
        }
      ]
    },
    {
      "cell_type": "code",
      "source": [
        "sm = SMOTE(random_state=58)\n",
        "x=ccdata.iloc[:,:-1]\n",
        "y=ccdata.iloc[:,-1]\n",
        "xn, yn = sm.fit_resample(x, y)\n",
        "print((yn==0).sum())\n",
        "print((yn==1).sum())"
      ],
      "metadata": {
        "colab": {
          "base_uri": "https://localhost:8080/"
        },
        "id": "DACp7PJn8t-o",
        "outputId": "08eb3d5d-b395-4908-e4bd-53d2ef4c5a2e"
      },
      "execution_count": null,
      "outputs": [
        {
          "output_type": "stream",
          "name": "stdout",
          "text": [
            "763\n",
            "763\n"
          ]
        }
      ]
    },
    {
      "cell_type": "code",
      "source": [
        "# New Balanced Dataset\n",
        "df=pd.DataFrame(xn)\n",
        "df['Class']=yn"
      ],
      "metadata": {
        "id": "NorhbYj198Ft"
      },
      "execution_count": null,
      "outputs": []
    },
    {
      "cell_type": "code",
      "source": [
        "#Create five samples\n",
        "#1Simple Random Sampling\n",
        "z=1.96\n",
        "p=0.5\n",
        "E=0.05\n",
        "sample_size = math.ceil((z*z*p*(1-p))/(E*E))\n",
        "samples=[]\n",
        "s1 = df.sample(n=sample_size, random_state=0)\n",
        "samples.append(s1)"
      ],
      "metadata": {
        "id": "QbkEJcSG9ARY"
      },
      "execution_count": null,
      "outputs": []
    },
    {
      "cell_type": "code",
      "source": [
        "#Cluster Sampling\n",
        "z=1.96\n",
        "p=0.5\n",
        "E=0.05\n",
        "C=1.5\n",
        "sample_size = round(((z**2)*p*(1-p))/((E/C)**2))\n",
        "num_select_clusters=2\n",
        "df_new=df\n",
        "# print(sample_size)\n",
        "N = len(df)\n",
        "K = int(N/sample_size)\n",
        "data = None\n",
        "for k in range(K):\n",
        "    sample_k = df_new.sample(sample_size)\n",
        "    sample_k[\"cluster\"] = np.repeat(k,len(sample_k))\n",
        "    df_new = df_new.drop(index = sample_k.index)\n",
        "    data = pd.concat([data,sample_k],axis = 0)\n",
        "\n",
        "random_chosen_clusters = np.random.randint(0,K,size = num_select_clusters)\n",
        "s2 = data[data.cluster.isin(random_chosen_clusters)]\n",
        "s2.drop(['cluster'], axis=1, inplace=True)\n",
        "samples.append(s2)"
      ],
      "metadata": {
        "id": "X88yoPuP-Gk4"
      },
      "execution_count": null,
      "outputs": []
    },
    {
      "cell_type": "code",
      "source": [
        "#systematic sampling\n",
        "n = len(df)\n",
        "k = int(math.sqrt(n))\n",
        "s3 = df.iloc[::k]\n",
        "samples.append(s3)"
      ],
      "metadata": {
        "id": "oYni9Lf7-TCl"
      },
      "execution_count": null,
      "outputs": []
    },
    {
      "cell_type": "code",
      "source": [
        "#stratified sampling\n",
        "s4 = df.groupby('Class', group_keys=False).apply(lambda x: x.sample(frac=0.6))\n",
        "samples.append(s4)"
      ],
      "metadata": {
        "id": "XWI9Yfun_D_Q"
      },
      "execution_count": null,
      "outputs": []
    },
    {
      "cell_type": "code",
      "source": [
        "#Convenience sampling\n",
        "s5=df.head(400)\n",
        "samples.append(s5)"
      ],
      "metadata": {
        "id": "CJ1gJ4Z4_8Jj"
      },
      "execution_count": null,
      "outputs": []
    },
    {
      "cell_type": "code",
      "source": [
        "#Apply five different sampling techniques\n",
        "headings=['Simple Random','Cluster','Systematic','Stratified','Convenience']\n",
        "ans=pd.DataFrame(columns=headings, index=['Decision Tree','KNN','Logistic Regression','SVM','Random Forest'])\n",
        "ans"
      ],
      "metadata": {
        "colab": {
          "base_uri": "https://localhost:8080/",
          "height": 206
        },
        "id": "y8hB1rzPAPh2",
        "outputId": "514bd981-719e-4cad-c72a-3a9ee57b8050"
      },
      "execution_count": null,
      "outputs": [
        {
          "output_type": "execute_result",
          "data": {
            "text/plain": [
              "                    Simple Random Cluster Systematic Stratified Convenience\n",
              "Decision Tree                 NaN     NaN        NaN        NaN         NaN\n",
              "KNN                           NaN     NaN        NaN        NaN         NaN\n",
              "Logistic Regression           NaN     NaN        NaN        NaN         NaN\n",
              "SVM                           NaN     NaN        NaN        NaN         NaN\n",
              "Random Forest                 NaN     NaN        NaN        NaN         NaN"
            ],
            "text/html": [
              "\n",
              "  <div id=\"df-f05001ac-3226-4cea-8105-4d34c7e9d153\">\n",
              "    <div class=\"colab-df-container\">\n",
              "      <div>\n",
              "<style scoped>\n",
              "    .dataframe tbody tr th:only-of-type {\n",
              "        vertical-align: middle;\n",
              "    }\n",
              "\n",
              "    .dataframe tbody tr th {\n",
              "        vertical-align: top;\n",
              "    }\n",
              "\n",
              "    .dataframe thead th {\n",
              "        text-align: right;\n",
              "    }\n",
              "</style>\n",
              "<table border=\"1\" class=\"dataframe\">\n",
              "  <thead>\n",
              "    <tr style=\"text-align: right;\">\n",
              "      <th></th>\n",
              "      <th>Simple Random</th>\n",
              "      <th>Cluster</th>\n",
              "      <th>Systematic</th>\n",
              "      <th>Stratified</th>\n",
              "      <th>Convenience</th>\n",
              "    </tr>\n",
              "  </thead>\n",
              "  <tbody>\n",
              "    <tr>\n",
              "      <th>Decision Tree</th>\n",
              "      <td>NaN</td>\n",
              "      <td>NaN</td>\n",
              "      <td>NaN</td>\n",
              "      <td>NaN</td>\n",
              "      <td>NaN</td>\n",
              "    </tr>\n",
              "    <tr>\n",
              "      <th>KNN</th>\n",
              "      <td>NaN</td>\n",
              "      <td>NaN</td>\n",
              "      <td>NaN</td>\n",
              "      <td>NaN</td>\n",
              "      <td>NaN</td>\n",
              "    </tr>\n",
              "    <tr>\n",
              "      <th>Logistic Regression</th>\n",
              "      <td>NaN</td>\n",
              "      <td>NaN</td>\n",
              "      <td>NaN</td>\n",
              "      <td>NaN</td>\n",
              "      <td>NaN</td>\n",
              "    </tr>\n",
              "    <tr>\n",
              "      <th>SVM</th>\n",
              "      <td>NaN</td>\n",
              "      <td>NaN</td>\n",
              "      <td>NaN</td>\n",
              "      <td>NaN</td>\n",
              "      <td>NaN</td>\n",
              "    </tr>\n",
              "    <tr>\n",
              "      <th>Random Forest</th>\n",
              "      <td>NaN</td>\n",
              "      <td>NaN</td>\n",
              "      <td>NaN</td>\n",
              "      <td>NaN</td>\n",
              "      <td>NaN</td>\n",
              "    </tr>\n",
              "  </tbody>\n",
              "</table>\n",
              "</div>\n",
              "      <button class=\"colab-df-convert\" onclick=\"convertToInteractive('df-f05001ac-3226-4cea-8105-4d34c7e9d153')\"\n",
              "              title=\"Convert this dataframe to an interactive table.\"\n",
              "              style=\"display:none;\">\n",
              "        \n",
              "  <svg xmlns=\"http://www.w3.org/2000/svg\" height=\"24px\"viewBox=\"0 0 24 24\"\n",
              "       width=\"24px\">\n",
              "    <path d=\"M0 0h24v24H0V0z\" fill=\"none\"/>\n",
              "    <path d=\"M18.56 5.44l.94 2.06.94-2.06 2.06-.94-2.06-.94-.94-2.06-.94 2.06-2.06.94zm-11 1L8.5 8.5l.94-2.06 2.06-.94-2.06-.94L8.5 2.5l-.94 2.06-2.06.94zm10 10l.94 2.06.94-2.06 2.06-.94-2.06-.94-.94-2.06-.94 2.06-2.06.94z\"/><path d=\"M17.41 7.96l-1.37-1.37c-.4-.4-.92-.59-1.43-.59-.52 0-1.04.2-1.43.59L10.3 9.45l-7.72 7.72c-.78.78-.78 2.05 0 2.83L4 21.41c.39.39.9.59 1.41.59.51 0 1.02-.2 1.41-.59l7.78-7.78 2.81-2.81c.8-.78.8-2.07 0-2.86zM5.41 20L4 18.59l7.72-7.72 1.47 1.35L5.41 20z\"/>\n",
              "  </svg>\n",
              "      </button>\n",
              "      \n",
              "  <style>\n",
              "    .colab-df-container {\n",
              "      display:flex;\n",
              "      flex-wrap:wrap;\n",
              "      gap: 12px;\n",
              "    }\n",
              "\n",
              "    .colab-df-convert {\n",
              "      background-color: #E8F0FE;\n",
              "      border: none;\n",
              "      border-radius: 50%;\n",
              "      cursor: pointer;\n",
              "      display: none;\n",
              "      fill: #1967D2;\n",
              "      height: 32px;\n",
              "      padding: 0 0 0 0;\n",
              "      width: 32px;\n",
              "    }\n",
              "\n",
              "    .colab-df-convert:hover {\n",
              "      background-color: #E2EBFA;\n",
              "      box-shadow: 0px 1px 2px rgba(60, 64, 67, 0.3), 0px 1px 3px 1px rgba(60, 64, 67, 0.15);\n",
              "      fill: #174EA6;\n",
              "    }\n",
              "\n",
              "    [theme=dark] .colab-df-convert {\n",
              "      background-color: #3B4455;\n",
              "      fill: #D2E3FC;\n",
              "    }\n",
              "\n",
              "    [theme=dark] .colab-df-convert:hover {\n",
              "      background-color: #434B5C;\n",
              "      box-shadow: 0px 1px 3px 1px rgba(0, 0, 0, 0.15);\n",
              "      filter: drop-shadow(0px 1px 2px rgba(0, 0, 0, 0.3));\n",
              "      fill: #FFFFFF;\n",
              "    }\n",
              "  </style>\n",
              "\n",
              "      <script>\n",
              "        const buttonEl =\n",
              "          document.querySelector('#df-f05001ac-3226-4cea-8105-4d34c7e9d153 button.colab-df-convert');\n",
              "        buttonEl.style.display =\n",
              "          google.colab.kernel.accessAllowed ? 'block' : 'none';\n",
              "\n",
              "        async function convertToInteractive(key) {\n",
              "          const element = document.querySelector('#df-f05001ac-3226-4cea-8105-4d34c7e9d153');\n",
              "          const dataTable =\n",
              "            await google.colab.kernel.invokeFunction('convertToInteractive',\n",
              "                                                     [key], {});\n",
              "          if (!dataTable) return;\n",
              "\n",
              "          const docLinkHtml = 'Like what you see? Visit the ' +\n",
              "            '<a target=\"_blank\" href=https://colab.research.google.com/notebooks/data_table.ipynb>data table notebook</a>'\n",
              "            + ' to learn more about interactive tables.';\n",
              "          element.innerHTML = '';\n",
              "          dataTable['output_type'] = 'display_data';\n",
              "          await google.colab.output.renderOutput(dataTable, element);\n",
              "          const docLink = document.createElement('div');\n",
              "          docLink.innerHTML = docLinkHtml;\n",
              "          element.appendChild(docLink);\n",
              "        }\n",
              "      </script>\n",
              "    </div>\n",
              "  </div>\n",
              "  "
            ]
          },
          "metadata": {},
          "execution_count": 11
        }
      ]
    },
    {
      "cell_type": "code",
      "source": [
        "#SAMPLE1\n",
        "x_s=samples[0].drop('Class',axis=1)\n",
        "y_s=samples[0]['Class']\n",
        "# Splitting into train and test\n",
        "xtrain, xtest, y_train, y_test = train_test_split(x_s ,y_s , random_state=104, test_size=0.25, shuffle=True)\n",
        "# Applying Decision Tree\n",
        "clf_entropy = DecisionTreeClassifier(criterion = \"entropy\", random_state = 100,max_depth = 3, min_samples_leaf = 5)\n",
        "clf_entropy.fit(xtrain, y_train)\n",
        "y_pred=clf_entropy.predict(xtest)\n",
        "acc = accuracy_score(y_test, y_pred)\n",
        "ans.iloc[0,0]=acc*100\n",
        "# Applying KNN\n",
        "knn = KNeighborsClassifier(n_neighbors=7)\n",
        "knn.fit(xtrain, y_train)\n",
        "y_pred=knn.predict(xtest)\n",
        "acc = accuracy_score(y_test, y_pred)\n",
        "ans.iloc[1,0]=acc*100\n",
        "# Applying Logistic Regression\n",
        "classifier = LogisticRegression(random_state = 0,max_iter=2000)\n",
        "classifier.fit(xtrain, y_train)\n",
        "y_pred = classifier.predict(xtest)\n",
        "acc = accuracy_score(y_test, y_pred)\n",
        "ans.iloc[2,0]=acc*100\n",
        "# Applying SVM\n",
        "clf = SVC(kernel='rbf')\n",
        "clf.fit(xtrain, y_train) \n",
        "y_pred=clf.predict(xtest)\n",
        "acc = accuracy_score(y_test, y_pred)\n",
        "ans.iloc[3,0]=acc*100\n",
        "# Applying RandomForest Classifier\n",
        "clf = RandomForestClassifier(n_estimators = 100) \n",
        "clf.fit(xtrain, y_train)\n",
        "y_pred = clf.predict(xtest)\n",
        "acc = accuracy_score(y_test, y_pred)\n",
        "ans.iloc[4,0]=acc*100"
      ],
      "metadata": {
        "id": "W3v8YHBnB8ok"
      },
      "execution_count": null,
      "outputs": []
    },
    {
      "cell_type": "code",
      "source": [
        "#SAMPLE2\n",
        "x_s=samples[1].drop('Class',axis=1)\n",
        "y_s=samples[1]['Class']\n",
        "# Splitting into train and test\n",
        "xtrain, xtest, y_train, y_test = train_test_split(x_s ,y_s , random_state=104, test_size=0.25, shuffle=True)\n",
        "# Applying Decision Tree\n",
        "clf_entropy = DecisionTreeClassifier(criterion = \"entropy\", random_state = 100,max_depth = 3, min_samples_leaf = 5)\n",
        "clf_entropy.fit(xtrain, y_train)\n",
        "y_pred=clf_entropy.predict(xtest)\n",
        "acc = accuracy_score(y_test, y_pred)\n",
        "ans.iloc[0,1]=acc*100\n",
        "# Applying KNN\n",
        "knn = KNeighborsClassifier(n_neighbors=7)\n",
        "knn.fit(xtrain, y_train)\n",
        "y_pred=knn.predict(xtest)\n",
        "acc = accuracy_score(y_test, y_pred)\n",
        "ans.iloc[1,1]=acc*100\n",
        "# Applying Logistic Regression\n",
        "classifier = LogisticRegression(random_state = 0,max_iter=2000)\n",
        "classifier.fit(xtrain, y_train)\n",
        "y_pred = classifier.predict(xtest)\n",
        "acc = accuracy_score(y_test, y_pred)\n",
        "ans.iloc[2,1]=acc*100\n",
        "# Applying SVM\n",
        "clf = SVC(kernel='rbf')\n",
        "clf.fit(xtrain, y_train) \n",
        "y_pred=clf.predict(xtest)\n",
        "acc = accuracy_score(y_test, y_pred)\n",
        "ans.iloc[3,1]=acc*100\n",
        "# Applying RandomForest Classifier\n",
        "clf = RandomForestClassifier(n_estimators = 100) \n",
        "clf.fit(xtrain, y_train)\n",
        "y_pred = clf.predict(xtest)\n",
        "acc = accuracy_score(y_test, y_pred)\n",
        "ans.iloc[4,1]=acc*100"
      ],
      "metadata": {
        "id": "jYiahVhcDCF1"
      },
      "execution_count": null,
      "outputs": []
    },
    {
      "cell_type": "code",
      "source": [
        "#SAMPLE3\n",
        "x_s=samples[2].drop('Class',axis=1)\n",
        "y_s=samples[2]['Class']\n",
        "# Splitting into train and test\n",
        "xtrain, xtest, y_train, y_test = train_test_split(x_s ,y_s , random_state=104, test_size=0.25, shuffle=True)\n",
        "# Applying Decision Tree\n",
        "clf_entropy = DecisionTreeClassifier(criterion = \"entropy\", random_state = 100,max_depth = 3, min_samples_leaf = 5)\n",
        "clf_entropy.fit(xtrain, y_train)\n",
        "y_pred=clf_entropy.predict(xtest)\n",
        "acc = accuracy_score(y_test, y_pred)\n",
        "ans.iloc[0,2]=acc*100\n",
        "# Applying KNN\n",
        "knn = KNeighborsClassifier(n_neighbors=7)\n",
        "knn.fit(xtrain, y_train)\n",
        "y_pred=knn.predict(xtest)\n",
        "acc = accuracy_score(y_test, y_pred)\n",
        "ans.iloc[1,2]=acc*100\n",
        "# Applying Logistic Regression\n",
        "classifier = LogisticRegression(random_state = 0,max_iter=2000)\n",
        "classifier.fit(xtrain, y_train)\n",
        "y_pred = classifier.predict(xtest)\n",
        "acc = accuracy_score(y_test, y_pred)\n",
        "ans.iloc[2,2]=acc*100\n",
        "# Applying SVM\n",
        "clf = SVC(kernel='rbf')\n",
        "clf.fit(xtrain, y_train) \n",
        "y_pred=clf.predict(xtest)\n",
        "acc = accuracy_score(y_test, y_pred)\n",
        "ans.iloc[3,2]=acc*100\n",
        "# Applying RandomForest Classifier\n",
        "clf = RandomForestClassifier(n_estimators = 100) \n",
        "clf.fit(xtrain, y_train)\n",
        "y_pred = clf.predict(xtest)\n",
        "acc = accuracy_score(y_test, y_pred)\n",
        "ans.iloc[4,2]=acc*100"
      ],
      "metadata": {
        "id": "m7a9XuXqDQxM"
      },
      "execution_count": null,
      "outputs": []
    },
    {
      "cell_type": "code",
      "source": [
        "#SAMPLE4\n",
        "x_s=samples[3].drop('Class',axis=1)\n",
        "y_s=samples[3]['Class']\n",
        "# Splitting into train and test\n",
        "xtrain, xtest, y_train, y_test = train_test_split(x_s ,y_s , random_state=104, test_size=0.25, shuffle=True)\n",
        "# Applying Decision Tree\n",
        "clf_entropy = DecisionTreeClassifier(criterion = \"entropy\", random_state = 100,max_depth = 3, min_samples_leaf = 5)\n",
        "clf_entropy.fit(xtrain, y_train)\n",
        "y_pred=clf_entropy.predict(xtest)\n",
        "acc = accuracy_score(y_test, y_pred)\n",
        "ans.iloc[0,3]=acc*100\n",
        "# Applying KNN\n",
        "knn = KNeighborsClassifier(n_neighbors=7)\n",
        "knn.fit(xtrain, y_train)\n",
        "y_pred=knn.predict(xtest)\n",
        "acc = accuracy_score(y_test, y_pred)\n",
        "ans.iloc[1,3]=acc*100\n",
        "# Applying Logistic Regression\n",
        "classifier = LogisticRegression(random_state = 0,max_iter=2000)\n",
        "classifier.fit(xtrain, y_train)\n",
        "y_pred = classifier.predict(xtest)\n",
        "acc = accuracy_score(y_test, y_pred)\n",
        "ans.iloc[2,3]=acc*100\n",
        "# Applying SVM\n",
        "clf = SVC(kernel='rbf')\n",
        "clf.fit(xtrain, y_train) \n",
        "y_pred=clf.predict(xtest)\n",
        "acc = accuracy_score(y_test, y_pred)\n",
        "ans.iloc[3,3]=acc*100\n",
        "# Applying RandomForest Classifier\n",
        "clf = RandomForestClassifier(n_estimators = 100) \n",
        "clf.fit(xtrain, y_train)\n",
        "y_pred = clf.predict(xtest)\n",
        "acc = accuracy_score(y_test, y_pred)\n",
        "ans.iloc[4,3]=acc*100"
      ],
      "metadata": {
        "id": "mMxv72F2DZBh"
      },
      "execution_count": null,
      "outputs": []
    },
    {
      "cell_type": "code",
      "source": [
        "#SAMPLE5\n",
        "x_s=samples[4].drop('Class',axis=1)\n",
        "y_s=samples[4]['Class']\n",
        "# Splitting into train and test\n",
        "xtrain, xtest, y_train, y_test = train_test_split(x_s ,y_s , random_state=104, test_size=0.25, shuffle=True)\n",
        "# Applying Decision Tree\n",
        "clf_entropy = DecisionTreeClassifier(criterion = \"entropy\", random_state = 100,max_depth = 3, min_samples_leaf = 5)\n",
        "clf_entropy.fit(xtrain, y_train)\n",
        "y_pred=clf_entropy.predict(xtest)\n",
        "acc = accuracy_score(y_test, y_pred)\n",
        "ans.iloc[0,4]=acc*100\n",
        "# Applying KNN\n",
        "knn = KNeighborsClassifier(n_neighbors=7)\n",
        "knn.fit(xtrain, y_train)\n",
        "y_pred=knn.predict(xtest)\n",
        "acc = accuracy_score(y_test, y_pred)\n",
        "ans.iloc[1,4]=acc*100\n",
        "# Applying Logistic Regression\n",
        "classifier = LogisticRegression(random_state = 0,max_iter=2000)\n",
        "classifier.fit(xtrain, y_train)\n",
        "y_pred = classifier.predict(xtest)\n",
        "acc = accuracy_score(y_test, y_pred)\n",
        "ans.iloc[2,4]=acc*100\n",
        "# Applying SVM\n",
        "clf = SVC(kernel='rbf')\n",
        "clf.fit(xtrain, y_train) \n",
        "y_pred=clf.predict(xtest)\n",
        "acc = accuracy_score(y_test, y_pred)\n",
        "ans.iloc[3,4]=acc*100\n",
        "# Applying RandomForest Classifier\n",
        "clf = RandomForestClassifier(n_estimators = 100) \n",
        "clf.fit(xtrain, y_train)\n",
        "y_pred = clf.predict(xtest)\n",
        "acc = accuracy_score(y_test, y_pred)\n",
        "ans.iloc[4,4]=acc*100"
      ],
      "metadata": {
        "id": "pAcCo_4jDfu_"
      },
      "execution_count": null,
      "outputs": []
    },
    {
      "cell_type": "code",
      "source": [
        "print(ans)"
      ],
      "metadata": {
        "colab": {
          "base_uri": "https://localhost:8080/"
        },
        "id": "rNlFO470Drzq",
        "outputId": "884e46e9-fc41-4f22-eeb6-2faf3c688541"
      },
      "execution_count": null,
      "outputs": [
        {
          "output_type": "stream",
          "name": "stdout",
          "text": [
            "                    Simple Random    Cluster Systematic Stratified Convenience\n",
            "Decision Tree            85.56701   95.37037       70.0  90.829694        99.0\n",
            "KNN                     72.164948   79.62963       40.0  80.786026        99.0\n",
            "Logistic Regression     86.597938  93.055556       80.0  92.139738        98.0\n",
            "SVM                      76.28866  67.592593       60.0  70.742358        99.0\n",
            "Random Forest           98.969072  99.537037       80.0      100.0        99.0\n"
          ]
        }
      ]
    }
  ]
}